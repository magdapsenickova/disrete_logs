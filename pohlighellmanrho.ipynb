{
 "cells": [
  {
   "cell_type": "markdown",
   "id": "070a7f15",
   "metadata": {},
   "source": [
    "## TASK 1 OFFICIAL"
   ]
  },
  {
   "cell_type": "code",
   "execution_count": 208,
   "id": "02e31e6e",
   "metadata": {
    "scrolled": true
   },
   "outputs": [],
   "source": [
    "def pohlig_hellman(g, h, p):\n",
    "    \n",
    "    # Initialisation\n",
    "    decomposition = factor(p-1)\n",
    "    congruences = []\n",
    "    mods = []\n",
    "    primes = []\n",
    "    exponents = []\n",
    "    \n",
    "    #print(\"{} decomposes into {}\".format(p, decomposition))\n",
    "    #print(\"solving for {}^x = {} mod {}\".format(g,h,p))\n",
    "\n",
    "    for i in range(len(decomposition)):\n",
    "        primes.append(decomposition[i][0])\n",
    "        exponents.append(decomposition[i][1])\n",
    "\n",
    "    \n",
    "    for q, e in zip(primes, exponents):    \n",
    "        a = mod(h^((p-1)/q^e),p)\n",
    "        b = mod(g^((p-1)/q^e),p)\n",
    "        x = discrete_log(a, b)\n",
    "        congruences.append(x)\n",
    "        mods.append(q^e)\n",
    "\n",
    "    result = crt(congruences,mods)\n",
    "    check = (g**result).mod(p) == h\n",
    "    print(\"Solution: {}, status: {}.\".format(result, check))\n",
    "    return result"
   ]
  },
  {
   "cell_type": "code",
   "execution_count": 209,
   "id": "f9efb315",
   "metadata": {},
   "outputs": [
    {
     "name": "stdout",
     "output_type": "stream",
     "text": [
      "Solution: 832, status: True.\n"
     ]
    },
    {
     "data": {
      "text/plain": [
       "832"
      ]
     },
     "execution_count": 209,
     "metadata": {},
     "output_type": "execute_result"
    }
   ],
   "source": [
    "pohlig_hellman(7, 777, 14947)   "
   ]
  },
  {
   "cell_type": "markdown",
   "id": "7d06bcc6",
   "metadata": {},
   "source": [
    "# TASK 2 OFFICIAL"
   ]
  },
  {
   "cell_type": "code",
   "execution_count": 216,
   "id": "69cfef36",
   "metadata": {},
   "outputs": [],
   "source": [
    "import random\n",
    "\n",
    "def pollards_rho(alpha, beta):\n",
    "    \n",
    "    # generating a prime s.t. alpha is primitive root\n",
    "    def find_prime(g):\n",
    "        \n",
    "        possible_primes = []\n",
    "        p = 2  \n",
    "        \n",
    "        for prime in range(g, 100):\n",
    "            if primitive_root(p) == g:\n",
    "                possible_primes.append(p)\n",
    "            p = next_prime(p)\n",
    "\n",
    "        return possible_primes\n",
    "    \n",
    "    N = random.choice(find_prime(alpha))\n",
    "    n = N - 1\n",
    "    \n",
    "    def new_xab(x, a, b):\n",
    "        if x % 3 == 0: \n",
    "            x = (x * x) % N  \n",
    "            a =  (a*2) % n  \n",
    "            b =  (b*2) % n\n",
    "            return x, a, b\n",
    "\n",
    "        if x % 3 == 1:\n",
    "            x = (x * alpha) % N\n",
    "            a = (a+1) % n\n",
    "            return x, a, b\n",
    "\n",
    "        if x % 3 == 2:\n",
    "            x = (x * beta) % N\n",
    "            b = (b+1) % n \n",
    "            return x, a, b\n",
    "\n",
    "    # Constants\n",
    "    x = 1\n",
    "    a = 0\n",
    "    b = 0\n",
    "    X = x \n",
    "    A = a \n",
    "    B = b\n",
    "\n",
    "\n",
    "    for i in range(1, n):\n",
    "        x,a,b = new_xab(x, a, b)\n",
    "        X,A,B = new_xab(X, A, B)\n",
    "        X,A,B = new_xab(X, A, B)\n",
    "        #print(\"i {}, a {}, b {}, x {}, A {}, B {}, X {}\".format(i, a, b, x, A, B, X))\n",
    "\n",
    "        if (x == X):\n",
    "\n",
    "            #print('{}^{} x {}^{} = {}^{} x {}^{} mod({}), {}'.format(alpha,a,beta,b,alpha,A,beta,B,N,((beta^b)*(alpha^a)).mod(N) == ((alpha^A)*(beta^B)).mod(N)))\n",
    "            #print('{}^({}) x {}^({}) == 1 mod {}'.format(alpha, A-a, beta, B-b, N))\n",
    "            #print('Exponents: {} + ({})x == 0 mod {}'.format(A-a, B-b, n))\n",
    "\n",
    "            s = (B-b).mod(n)\n",
    "            t = (a-A).mod(n)\n",
    "\n",
    "            sols = []\n",
    "            for x in range(n):\n",
    "                if ((s*x) % n == t):\n",
    "                    if ((alpha^x) % N == beta):\n",
    "                        sols.append(x)\n",
    "            #print(sols)\n",
    "            for solution in sols:\n",
    "                check = (alpha**solution).mod(N)==beta.mod(N)\n",
    "                print('\\nSolution: {}, status: {}'.format(solution, check))\n",
    "            break\n",
    "    \n",
    "    return sols"
   ]
  },
  {
   "cell_type": "code",
   "execution_count": 217,
   "id": "5ec4de81",
   "metadata": {},
   "outputs": [
    {
     "name": "stdout",
     "output_type": "stream",
     "text": [
      "\n",
      "Solution: 89, status: True\n"
     ]
    },
    {
     "data": {
      "text/plain": [
       "[89]"
      ]
     },
     "execution_count": 217,
     "metadata": {},
     "output_type": "execute_result"
    }
   ],
   "source": [
    "pollards_rho(2,5)"
   ]
  },
  {
   "cell_type": "code",
   "execution_count": null,
   "id": "e1c5db7a",
   "metadata": {},
   "outputs": [],
   "source": []
  }
 ],
 "metadata": {
  "kernelspec": {
   "display_name": "SageMath 9.5",
   "language": "sage",
   "name": "sagemath"
  },
  "language_info": {
   "codemirror_mode": {
    "name": "ipython",
    "version": 3
   },
   "file_extension": ".py",
   "mimetype": "text/x-python",
   "name": "python",
   "nbconvert_exporter": "python",
   "pygments_lexer": "ipython3",
   "version": "3.9.2"
  }
 },
 "nbformat": 4,
 "nbformat_minor": 5
}
